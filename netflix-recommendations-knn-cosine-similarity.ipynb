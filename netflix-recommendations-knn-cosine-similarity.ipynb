{
 "cells": [
  {
   "cell_type": "code",
   "execution_count": 1,
   "id": "e2ad23f9",
   "metadata": {
    "_cell_guid": "b1076dfc-b9ad-4769-8c92-a6c4dae69d19",
    "_uuid": "8f2839f25d086af736a60e9eeb907d3b93b6e0e5",
    "execution": {
     "iopub.execute_input": "2023-03-28T17:29:35.066866Z",
     "iopub.status.busy": "2023-03-28T17:29:35.066447Z",
     "iopub.status.idle": "2023-03-28T17:29:36.204665Z",
     "shell.execute_reply": "2023-03-28T17:29:36.203571Z"
    },
    "papermill": {
     "duration": 1.150436,
     "end_time": "2023-03-28T17:29:36.207538",
     "exception": false,
     "start_time": "2023-03-28T17:29:35.057102",
     "status": "completed"
    },
    "tags": []
   },
   "outputs": [],
   "source": [
    "import pandas as pd\n",
    "import numpy as np\n",
    "import copy\n",
    "import re\n",
    "import math\n",
    "from scipy import spatial\n",
    "from sklearn.neighbors import NearestNeighbors\n"
   ]
  },
  {
   "cell_type": "code",
   "execution_count": 2,
   "id": "ecc1b97a",
   "metadata": {
    "execution": {
     "iopub.execute_input": "2023-03-28T17:29:36.221726Z",
     "iopub.status.busy": "2023-03-28T17:29:36.220822Z",
     "iopub.status.idle": "2023-03-28T17:29:36.345993Z",
     "shell.execute_reply": "2023-03-28T17:29:36.344740Z"
    },
    "papermill": {
     "duration": 0.135402,
     "end_time": "2023-03-28T17:29:36.349045",
     "exception": false,
     "start_time": "2023-03-28T17:29:36.213643",
     "status": "completed"
    },
    "tags": []
   },
   "outputs": [],
   "source": [
    "df = pd.read_csv('/kaggle/input/netflix-shows/netflix_titles.csv')"
   ]
  },
  {
   "cell_type": "code",
   "execution_count": 3,
   "id": "432986ad",
   "metadata": {
    "execution": {
     "iopub.execute_input": "2023-03-28T17:29:36.363484Z",
     "iopub.status.busy": "2023-03-28T17:29:36.362777Z",
     "iopub.status.idle": "2023-03-28T17:29:36.399293Z",
     "shell.execute_reply": "2023-03-28T17:29:36.397989Z"
    },
    "papermill": {
     "duration": 0.048206,
     "end_time": "2023-03-28T17:29:36.403236",
     "exception": false,
     "start_time": "2023-03-28T17:29:36.355030",
     "status": "completed"
    },
    "tags": []
   },
   "outputs": [
    {
     "data": {
      "text/html": [
       "<div>\n",
       "<style scoped>\n",
       "    .dataframe tbody tr th:only-of-type {\n",
       "        vertical-align: middle;\n",
       "    }\n",
       "\n",
       "    .dataframe tbody tr th {\n",
       "        vertical-align: top;\n",
       "    }\n",
       "\n",
       "    .dataframe thead th {\n",
       "        text-align: right;\n",
       "    }\n",
       "</style>\n",
       "<table border=\"1\" class=\"dataframe\">\n",
       "  <thead>\n",
       "    <tr style=\"text-align: right;\">\n",
       "      <th></th>\n",
       "      <th>show_id</th>\n",
       "      <th>type</th>\n",
       "      <th>title</th>\n",
       "      <th>director</th>\n",
       "      <th>cast</th>\n",
       "      <th>country</th>\n",
       "      <th>date_added</th>\n",
       "      <th>release_year</th>\n",
       "      <th>rating</th>\n",
       "      <th>duration</th>\n",
       "      <th>listed_in</th>\n",
       "      <th>description</th>\n",
       "    </tr>\n",
       "  </thead>\n",
       "  <tbody>\n",
       "    <tr>\n",
       "      <th>0</th>\n",
       "      <td>s1</td>\n",
       "      <td>Movie</td>\n",
       "      <td>Dick Johnson Is Dead</td>\n",
       "      <td>Kirsten Johnson</td>\n",
       "      <td>NaN</td>\n",
       "      <td>United States</td>\n",
       "      <td>September 25, 2021</td>\n",
       "      <td>2020</td>\n",
       "      <td>PG-13</td>\n",
       "      <td>90 min</td>\n",
       "      <td>Documentaries</td>\n",
       "      <td>As her father nears the end of his life, filmm...</td>\n",
       "    </tr>\n",
       "    <tr>\n",
       "      <th>1</th>\n",
       "      <td>s2</td>\n",
       "      <td>TV Show</td>\n",
       "      <td>Blood &amp; Water</td>\n",
       "      <td>NaN</td>\n",
       "      <td>Ama Qamata, Khosi Ngema, Gail Mabalane, Thaban...</td>\n",
       "      <td>South Africa</td>\n",
       "      <td>September 24, 2021</td>\n",
       "      <td>2021</td>\n",
       "      <td>TV-MA</td>\n",
       "      <td>2 Seasons</td>\n",
       "      <td>International TV Shows, TV Dramas, TV Mysteries</td>\n",
       "      <td>After crossing paths at a party, a Cape Town t...</td>\n",
       "    </tr>\n",
       "    <tr>\n",
       "      <th>2</th>\n",
       "      <td>s3</td>\n",
       "      <td>TV Show</td>\n",
       "      <td>Ganglands</td>\n",
       "      <td>Julien Leclercq</td>\n",
       "      <td>Sami Bouajila, Tracy Gotoas, Samuel Jouy, Nabi...</td>\n",
       "      <td>NaN</td>\n",
       "      <td>September 24, 2021</td>\n",
       "      <td>2021</td>\n",
       "      <td>TV-MA</td>\n",
       "      <td>1 Season</td>\n",
       "      <td>Crime TV Shows, International TV Shows, TV Act...</td>\n",
       "      <td>To protect his family from a powerful drug lor...</td>\n",
       "    </tr>\n",
       "    <tr>\n",
       "      <th>3</th>\n",
       "      <td>s4</td>\n",
       "      <td>TV Show</td>\n",
       "      <td>Jailbirds New Orleans</td>\n",
       "      <td>NaN</td>\n",
       "      <td>NaN</td>\n",
       "      <td>NaN</td>\n",
       "      <td>September 24, 2021</td>\n",
       "      <td>2021</td>\n",
       "      <td>TV-MA</td>\n",
       "      <td>1 Season</td>\n",
       "      <td>Docuseries, Reality TV</td>\n",
       "      <td>Feuds, flirtations and toilet talk go down amo...</td>\n",
       "    </tr>\n",
       "    <tr>\n",
       "      <th>4</th>\n",
       "      <td>s5</td>\n",
       "      <td>TV Show</td>\n",
       "      <td>Kota Factory</td>\n",
       "      <td>NaN</td>\n",
       "      <td>Mayur More, Jitendra Kumar, Ranjan Raj, Alam K...</td>\n",
       "      <td>India</td>\n",
       "      <td>September 24, 2021</td>\n",
       "      <td>2021</td>\n",
       "      <td>TV-MA</td>\n",
       "      <td>2 Seasons</td>\n",
       "      <td>International TV Shows, Romantic TV Shows, TV ...</td>\n",
       "      <td>In a city of coaching centers known to train I...</td>\n",
       "    </tr>\n",
       "  </tbody>\n",
       "</table>\n",
       "</div>"
      ],
      "text/plain": [
       "  show_id     type                  title         director  \\\n",
       "0      s1    Movie   Dick Johnson Is Dead  Kirsten Johnson   \n",
       "1      s2  TV Show          Blood & Water              NaN   \n",
       "2      s3  TV Show              Ganglands  Julien Leclercq   \n",
       "3      s4  TV Show  Jailbirds New Orleans              NaN   \n",
       "4      s5  TV Show           Kota Factory              NaN   \n",
       "\n",
       "                                                cast        country  \\\n",
       "0                                                NaN  United States   \n",
       "1  Ama Qamata, Khosi Ngema, Gail Mabalane, Thaban...   South Africa   \n",
       "2  Sami Bouajila, Tracy Gotoas, Samuel Jouy, Nabi...            NaN   \n",
       "3                                                NaN            NaN   \n",
       "4  Mayur More, Jitendra Kumar, Ranjan Raj, Alam K...          India   \n",
       "\n",
       "           date_added  release_year rating   duration  \\\n",
       "0  September 25, 2021          2020  PG-13     90 min   \n",
       "1  September 24, 2021          2021  TV-MA  2 Seasons   \n",
       "2  September 24, 2021          2021  TV-MA   1 Season   \n",
       "3  September 24, 2021          2021  TV-MA   1 Season   \n",
       "4  September 24, 2021          2021  TV-MA  2 Seasons   \n",
       "\n",
       "                                           listed_in  \\\n",
       "0                                      Documentaries   \n",
       "1    International TV Shows, TV Dramas, TV Mysteries   \n",
       "2  Crime TV Shows, International TV Shows, TV Act...   \n",
       "3                             Docuseries, Reality TV   \n",
       "4  International TV Shows, Romantic TV Shows, TV ...   \n",
       "\n",
       "                                         description  \n",
       "0  As her father nears the end of his life, filmm...  \n",
       "1  After crossing paths at a party, a Cape Town t...  \n",
       "2  To protect his family from a powerful drug lor...  \n",
       "3  Feuds, flirtations and toilet talk go down amo...  \n",
       "4  In a city of coaching centers known to train I...  "
      ]
     },
     "execution_count": 3,
     "metadata": {},
     "output_type": "execute_result"
    }
   ],
   "source": [
    "df.head()"
   ]
  },
  {
   "cell_type": "markdown",
   "id": "be71d630",
   "metadata": {
    "papermill": {
     "duration": 0.005862,
     "end_time": "2023-03-28T17:29:36.415521",
     "exception": false,
     "start_time": "2023-03-28T17:29:36.409659",
     "status": "completed"
    },
    "tags": []
   },
   "source": [
    "There are a lot of Nan values, which can affect our predictions.\n",
    "Here, we have 2 options\n",
    "1. Remove Rows with Nan values altogether\n",
    "2. replace some other value\n",
    "\n",
    "We will replace the values with String --> 'missing', as other features might come in handy for predictions for a particular item in the dataset."
   ]
  },
  {
   "cell_type": "code",
   "execution_count": 4,
   "id": "f1f68a9c",
   "metadata": {
    "execution": {
     "iopub.execute_input": "2023-03-28T17:29:36.430246Z",
     "iopub.status.busy": "2023-03-28T17:29:36.429170Z",
     "iopub.status.idle": "2023-03-28T17:29:36.440574Z",
     "shell.execute_reply": "2023-03-28T17:29:36.439643Z"
    },
    "papermill": {
     "duration": 0.021378,
     "end_time": "2023-03-28T17:29:36.443027",
     "exception": false,
     "start_time": "2023-03-28T17:29:36.421649",
     "status": "completed"
    },
    "tags": []
   },
   "outputs": [],
   "source": [
    "df.fillna('missing', inplace = True)"
   ]
  },
  {
   "cell_type": "markdown",
   "id": "a0581593",
   "metadata": {
    "papermill": {
     "duration": 0.006024,
     "end_time": "2023-03-28T17:29:36.455211",
     "exception": false,
     "start_time": "2023-03-28T17:29:36.449187",
     "status": "completed"
    },
    "tags": []
   },
   "source": [
    "**The columns considered for predictions are as follows:**\n",
    "1. country\n",
    "2. release_year\n",
    "3. rating \n",
    "4. duration\n",
    "5. listed_in\n"
   ]
  },
  {
   "cell_type": "code",
   "execution_count": 5,
   "id": "b82bf848",
   "metadata": {
    "execution": {
     "iopub.execute_input": "2023-03-28T17:29:36.469457Z",
     "iopub.status.busy": "2023-03-28T17:29:36.468775Z",
     "iopub.status.idle": "2023-03-28T17:29:36.479457Z",
     "shell.execute_reply": "2023-03-28T17:29:36.478477Z"
    },
    "papermill": {
     "duration": 0.020657,
     "end_time": "2023-03-28T17:29:36.482033",
     "exception": false,
     "start_time": "2023-03-28T17:29:36.461376",
     "status": "completed"
    },
    "tags": []
   },
   "outputs": [],
   "source": [
    "recommendation_cols = ['country', 'release_year', 'rating', 'duration', 'listed_in']\n",
    "df_new = copy.deepcopy(df[recommendation_cols])"
   ]
  },
  {
   "cell_type": "code",
   "execution_count": 6,
   "id": "106193c8",
   "metadata": {
    "execution": {
     "iopub.execute_input": "2023-03-28T17:29:36.496542Z",
     "iopub.status.busy": "2023-03-28T17:29:36.495777Z",
     "iopub.status.idle": "2023-03-28T17:29:36.509293Z",
     "shell.execute_reply": "2023-03-28T17:29:36.507913Z"
    },
    "papermill": {
     "duration": 0.023559,
     "end_time": "2023-03-28T17:29:36.511764",
     "exception": false,
     "start_time": "2023-03-28T17:29:36.488205",
     "status": "completed"
    },
    "tags": []
   },
   "outputs": [
    {
     "data": {
      "text/html": [
       "<div>\n",
       "<style scoped>\n",
       "    .dataframe tbody tr th:only-of-type {\n",
       "        vertical-align: middle;\n",
       "    }\n",
       "\n",
       "    .dataframe tbody tr th {\n",
       "        vertical-align: top;\n",
       "    }\n",
       "\n",
       "    .dataframe thead th {\n",
       "        text-align: right;\n",
       "    }\n",
       "</style>\n",
       "<table border=\"1\" class=\"dataframe\">\n",
       "  <thead>\n",
       "    <tr style=\"text-align: right;\">\n",
       "      <th></th>\n",
       "      <th>country</th>\n",
       "      <th>release_year</th>\n",
       "      <th>rating</th>\n",
       "      <th>duration</th>\n",
       "      <th>listed_in</th>\n",
       "    </tr>\n",
       "  </thead>\n",
       "  <tbody>\n",
       "    <tr>\n",
       "      <th>0</th>\n",
       "      <td>United States</td>\n",
       "      <td>2020</td>\n",
       "      <td>PG-13</td>\n",
       "      <td>90 min</td>\n",
       "      <td>Documentaries</td>\n",
       "    </tr>\n",
       "    <tr>\n",
       "      <th>1</th>\n",
       "      <td>South Africa</td>\n",
       "      <td>2021</td>\n",
       "      <td>TV-MA</td>\n",
       "      <td>2 Seasons</td>\n",
       "      <td>International TV Shows, TV Dramas, TV Mysteries</td>\n",
       "    </tr>\n",
       "    <tr>\n",
       "      <th>2</th>\n",
       "      <td>missing</td>\n",
       "      <td>2021</td>\n",
       "      <td>TV-MA</td>\n",
       "      <td>1 Season</td>\n",
       "      <td>Crime TV Shows, International TV Shows, TV Act...</td>\n",
       "    </tr>\n",
       "    <tr>\n",
       "      <th>3</th>\n",
       "      <td>missing</td>\n",
       "      <td>2021</td>\n",
       "      <td>TV-MA</td>\n",
       "      <td>1 Season</td>\n",
       "      <td>Docuseries, Reality TV</td>\n",
       "    </tr>\n",
       "    <tr>\n",
       "      <th>4</th>\n",
       "      <td>India</td>\n",
       "      <td>2021</td>\n",
       "      <td>TV-MA</td>\n",
       "      <td>2 Seasons</td>\n",
       "      <td>International TV Shows, Romantic TV Shows, TV ...</td>\n",
       "    </tr>\n",
       "  </tbody>\n",
       "</table>\n",
       "</div>"
      ],
      "text/plain": [
       "         country  release_year rating   duration  \\\n",
       "0  United States          2020  PG-13     90 min   \n",
       "1   South Africa          2021  TV-MA  2 Seasons   \n",
       "2        missing          2021  TV-MA   1 Season   \n",
       "3        missing          2021  TV-MA   1 Season   \n",
       "4          India          2021  TV-MA  2 Seasons   \n",
       "\n",
       "                                           listed_in  \n",
       "0                                      Documentaries  \n",
       "1    International TV Shows, TV Dramas, TV Mysteries  \n",
       "2  Crime TV Shows, International TV Shows, TV Act...  \n",
       "3                             Docuseries, Reality TV  \n",
       "4  International TV Shows, Romantic TV Shows, TV ...  "
      ]
     },
     "execution_count": 6,
     "metadata": {},
     "output_type": "execute_result"
    }
   ],
   "source": [
    "df_new.head()"
   ]
  },
  {
   "cell_type": "code",
   "execution_count": 7,
   "id": "6a203269",
   "metadata": {
    "execution": {
     "iopub.execute_input": "2023-03-28T17:29:36.526454Z",
     "iopub.status.busy": "2023-03-28T17:29:36.526063Z",
     "iopub.status.idle": "2023-03-28T17:29:36.531180Z",
     "shell.execute_reply": "2023-03-28T17:29:36.529989Z"
    },
    "papermill": {
     "duration": 0.01554,
     "end_time": "2023-03-28T17:29:36.533673",
     "exception": false,
     "start_time": "2023-03-28T17:29:36.518133",
     "status": "completed"
    },
    "tags": []
   },
   "outputs": [],
   "source": [
    "country = []\n",
    "release_year = [] \n",
    "rating = []\n",
    "duration = [] \n",
    "genres = []"
   ]
  },
  {
   "cell_type": "code",
   "execution_count": 8,
   "id": "d9cb0eb4",
   "metadata": {
    "execution": {
     "iopub.execute_input": "2023-03-28T17:29:36.548860Z",
     "iopub.status.busy": "2023-03-28T17:29:36.548438Z",
     "iopub.status.idle": "2023-03-28T17:29:36.555745Z",
     "shell.execute_reply": "2023-03-28T17:29:36.554762Z"
    },
    "papermill": {
     "duration": 0.018046,
     "end_time": "2023-03-28T17:29:36.558313",
     "exception": false,
     "start_time": "2023-03-28T17:29:36.540267",
     "status": "completed"
    },
    "tags": []
   },
   "outputs": [],
   "source": [
    "def split_by_delimeters(target_list):\n",
    "    \"\"\"\n",
    "    this method splits a target list by some delimeters\n",
    "    \"\"\"\n",
    "    result = []\n",
    "    for i in target_list:\n",
    "        delimiters = \",\", \"&\"\n",
    "        regex_pattern = '|'.join(map(re.escape, delimiters))\n",
    "        result.extend(re.split(regex_pattern, i))\n",
    "    result = [i.strip() if i not in ['', 'missing'] else i for i in result]\n",
    "    return result"
   ]
  },
  {
   "cell_type": "code",
   "execution_count": 9,
   "id": "91fa67d4",
   "metadata": {
    "execution": {
     "iopub.execute_input": "2023-03-28T17:29:36.574274Z",
     "iopub.status.busy": "2023-03-28T17:29:36.573822Z",
     "iopub.status.idle": "2023-03-28T17:29:36.651678Z",
     "shell.execute_reply": "2023-03-28T17:29:36.650383Z"
    },
    "papermill": {
     "duration": 0.089829,
     "end_time": "2023-03-28T17:29:36.654571",
     "exception": false,
     "start_time": "2023-03-28T17:29:36.564742",
     "status": "completed"
    },
    "tags": []
   },
   "outputs": [],
   "source": [
    "# preparing all columns for the dataset\n",
    "country = list(set(split_by_delimeters(df_new['country'])))\n",
    "release_year = list(set(df_new['release_year']))\n",
    "release_year = [str(i) for i in release_year]\n",
    "ratings = list(set(df_new['rating']))\n",
    "seasons_durations = ['1_season', '2_season', '3_season', '4_season','5+_season']\n",
    "movies_durations = ['0_25_min', '26_50_min', '51_75_min', '76_100_min', \n",
    "                    '101_125_min', '126_150_min', '151+_min' ]\n",
    "durations = seasons_durations + movies_durations\n",
    "genres = list(set(split_by_delimeters(df_new['listed_in'])))"
   ]
  },
  {
   "cell_type": "code",
   "execution_count": 10,
   "id": "5b3cdbe4",
   "metadata": {
    "execution": {
     "iopub.execute_input": "2023-03-28T17:29:36.669601Z",
     "iopub.status.busy": "2023-03-28T17:29:36.668546Z",
     "iopub.status.idle": "2023-03-28T17:29:36.674561Z",
     "shell.execute_reply": "2023-03-28T17:29:36.673410Z"
    },
    "papermill": {
     "duration": 0.015992,
     "end_time": "2023-03-28T17:29:36.676993",
     "exception": false,
     "start_time": "2023-03-28T17:29:36.661001",
     "status": "completed"
    },
    "tags": []
   },
   "outputs": [],
   "source": [
    "# combining all columns for the one hot encoded vector form\n",
    "all_columns = country + release_year + ratings + durations + genres\n",
    "all_columns.remove('missing')"
   ]
  },
  {
   "cell_type": "code",
   "execution_count": 11,
   "id": "451e34f8",
   "metadata": {
    "execution": {
     "iopub.execute_input": "2023-03-28T17:29:36.691423Z",
     "iopub.status.busy": "2023-03-28T17:29:36.691000Z",
     "iopub.status.idle": "2023-03-28T17:29:36.704240Z",
     "shell.execute_reply": "2023-03-28T17:29:36.702995Z"
    },
    "papermill": {
     "duration": 0.023712,
     "end_time": "2023-03-28T17:29:36.707033",
     "exception": false,
     "start_time": "2023-03-28T17:29:36.683321",
     "status": "completed"
    },
    "tags": []
   },
   "outputs": [],
   "source": [
    "# initializes a df with '0' values for the one-hot-encoded vector\n",
    "ohe_df = pd.DataFrame(0, index = np.arange(len(df_new)), columns = all_columns)"
   ]
  },
  {
   "cell_type": "code",
   "execution_count": 12,
   "id": "a6c16894",
   "metadata": {
    "execution": {
     "iopub.execute_input": "2023-03-28T17:29:36.721837Z",
     "iopub.status.busy": "2023-03-28T17:29:36.721054Z",
     "iopub.status.idle": "2023-03-28T17:29:36.728357Z",
     "shell.execute_reply": "2023-03-28T17:29:36.727494Z"
    },
    "papermill": {
     "duration": 0.01711,
     "end_time": "2023-03-28T17:29:36.730534",
     "exception": false,
     "start_time": "2023-03-28T17:29:36.713424",
     "status": "completed"
    },
    "tags": []
   },
   "outputs": [],
   "source": [
    "def duration_adjustment(duration: str) -> str:\n",
    "    try:\n",
    "        dur_list = []\n",
    "        if 'Season' in duration:\n",
    "            temp_res = duration.split()\n",
    "            no_of_seasons = int(temp_res[0])\n",
    "            if no_of_seasons <5:\n",
    "                return seasons_durations[no_of_seasons - 1]\n",
    "            return seasons_durations[-1]\n",
    "\n",
    "        else:\n",
    "            temp_res = duration.split()\n",
    "            runtime_mins = int(temp_res[0])\n",
    "            if runtime_mins <= 150:\n",
    "                index = math.ceil((runtime_mins/25) - 1.0)\n",
    "                return movies_durations[index]\n",
    "            return movies_durations[-1]\n",
    "    except:\n",
    "        return 'missing'\n"
   ]
  },
  {
   "cell_type": "code",
   "execution_count": 13,
   "id": "2d236283",
   "metadata": {
    "execution": {
     "iopub.execute_input": "2023-03-28T17:29:36.745212Z",
     "iopub.status.busy": "2023-03-28T17:29:36.744766Z",
     "iopub.status.idle": "2023-03-28T17:29:36.752076Z",
     "shell.execute_reply": "2023-03-28T17:29:36.750862Z"
    },
    "papermill": {
     "duration": 0.017414,
     "end_time": "2023-03-28T17:29:36.754362",
     "exception": false,
     "start_time": "2023-03-28T17:29:36.736948",
     "status": "completed"
    },
    "tags": []
   },
   "outputs": [],
   "source": [
    "def return_columns(row):\n",
    "    \"\"\"\n",
    "    recieves a df row and returns the respective columns/features\n",
    "    that the item i.e. movie falls in\n",
    "    \"\"\"\n",
    "    result_cols = []\n",
    "    result_cols.extend(split_by_delimeters([row['country']]))\n",
    "    result_cols.extend(split_by_delimeters([row['listed_in']]))\n",
    "    result_cols.append(str(row['release_year']))\n",
    "    result_cols.append(row['rating'])\n",
    "    result_cols.append(duration_adjustment(str(row['duration'])))\n",
    "    if 'missing' in result_cols:\n",
    "        result_cols.remove('missing')\n",
    "    return result_cols\n",
    "    "
   ]
  },
  {
   "cell_type": "code",
   "execution_count": 14,
   "id": "36c2e19a",
   "metadata": {
    "execution": {
     "iopub.execute_input": "2023-03-28T17:29:36.768958Z",
     "iopub.status.busy": "2023-03-28T17:29:36.768508Z",
     "iopub.status.idle": "2023-03-28T17:29:44.485604Z",
     "shell.execute_reply": "2023-03-28T17:29:44.484597Z"
    },
    "papermill": {
     "duration": 7.727805,
     "end_time": "2023-03-28T17:29:44.488409",
     "exception": false,
     "start_time": "2023-03-28T17:29:36.760604",
     "status": "completed"
    },
    "tags": []
   },
   "outputs": [],
   "source": [
    "# preparing the one hot encoded df of all items i.e. movies as vectors\n",
    "for ind,row in df_new.iterrows():\n",
    "    ohe_df.loc[ind, return_columns(row)] = 1"
   ]
  },
  {
   "cell_type": "code",
   "execution_count": 15,
   "id": "fd0e4916",
   "metadata": {
    "execution": {
     "iopub.execute_input": "2023-03-28T17:29:44.503157Z",
     "iopub.status.busy": "2023-03-28T17:29:44.502241Z",
     "iopub.status.idle": "2023-03-28T17:29:44.522538Z",
     "shell.execute_reply": "2023-03-28T17:29:44.521249Z"
    },
    "papermill": {
     "duration": 0.03016,
     "end_time": "2023-03-28T17:29:44.524894",
     "exception": false,
     "start_time": "2023-03-28T17:29:44.494734",
     "status": "completed"
    },
    "tags": []
   },
   "outputs": [
    {
     "data": {
      "text/html": [
       "<div>\n",
       "<style scoped>\n",
       "    .dataframe tbody tr th:only-of-type {\n",
       "        vertical-align: middle;\n",
       "    }\n",
       "\n",
       "    .dataframe tbody tr th {\n",
       "        vertical-align: top;\n",
       "    }\n",
       "\n",
       "    .dataframe thead th {\n",
       "        text-align: right;\n",
       "    }\n",
       "</style>\n",
       "<table border=\"1\" class=\"dataframe\">\n",
       "  <thead>\n",
       "    <tr style=\"text-align: right;\">\n",
       "      <th></th>\n",
       "      <th></th>\n",
       "      <th>Burkina Faso</th>\n",
       "      <th>Pakistan</th>\n",
       "      <th>Bulgaria</th>\n",
       "      <th>Bangladesh</th>\n",
       "      <th>Botswana</th>\n",
       "      <th>Ethiopia</th>\n",
       "      <th>Ghana</th>\n",
       "      <th>Ukraine</th>\n",
       "      <th>Soviet Union</th>\n",
       "      <th>...</th>\n",
       "      <th>Adventure</th>\n",
       "      <th>British TV Shows</th>\n",
       "      <th>TV Thrillers</th>\n",
       "      <th>Docuseries</th>\n",
       "      <th>Romantic TV Shows</th>\n",
       "      <th>Science</th>\n",
       "      <th>TV Mysteries</th>\n",
       "      <th>TV Shows</th>\n",
       "      <th>Movies</th>\n",
       "      <th>TV Comedies</th>\n",
       "    </tr>\n",
       "  </thead>\n",
       "  <tbody>\n",
       "    <tr>\n",
       "      <th>0</th>\n",
       "      <td>0</td>\n",
       "      <td>0</td>\n",
       "      <td>0</td>\n",
       "      <td>0</td>\n",
       "      <td>0</td>\n",
       "      <td>0</td>\n",
       "      <td>0</td>\n",
       "      <td>0</td>\n",
       "      <td>0</td>\n",
       "      <td>0</td>\n",
       "      <td>...</td>\n",
       "      <td>0</td>\n",
       "      <td>0</td>\n",
       "      <td>0</td>\n",
       "      <td>0</td>\n",
       "      <td>0</td>\n",
       "      <td>0</td>\n",
       "      <td>0</td>\n",
       "      <td>0</td>\n",
       "      <td>0</td>\n",
       "      <td>0</td>\n",
       "    </tr>\n",
       "    <tr>\n",
       "      <th>1</th>\n",
       "      <td>0</td>\n",
       "      <td>0</td>\n",
       "      <td>0</td>\n",
       "      <td>0</td>\n",
       "      <td>0</td>\n",
       "      <td>0</td>\n",
       "      <td>0</td>\n",
       "      <td>0</td>\n",
       "      <td>0</td>\n",
       "      <td>0</td>\n",
       "      <td>...</td>\n",
       "      <td>0</td>\n",
       "      <td>0</td>\n",
       "      <td>0</td>\n",
       "      <td>0</td>\n",
       "      <td>0</td>\n",
       "      <td>0</td>\n",
       "      <td>1</td>\n",
       "      <td>0</td>\n",
       "      <td>0</td>\n",
       "      <td>0</td>\n",
       "    </tr>\n",
       "    <tr>\n",
       "      <th>2</th>\n",
       "      <td>0</td>\n",
       "      <td>0</td>\n",
       "      <td>0</td>\n",
       "      <td>0</td>\n",
       "      <td>0</td>\n",
       "      <td>0</td>\n",
       "      <td>0</td>\n",
       "      <td>0</td>\n",
       "      <td>0</td>\n",
       "      <td>0</td>\n",
       "      <td>...</td>\n",
       "      <td>1</td>\n",
       "      <td>0</td>\n",
       "      <td>0</td>\n",
       "      <td>0</td>\n",
       "      <td>0</td>\n",
       "      <td>0</td>\n",
       "      <td>0</td>\n",
       "      <td>0</td>\n",
       "      <td>0</td>\n",
       "      <td>0</td>\n",
       "    </tr>\n",
       "    <tr>\n",
       "      <th>3</th>\n",
       "      <td>0</td>\n",
       "      <td>0</td>\n",
       "      <td>0</td>\n",
       "      <td>0</td>\n",
       "      <td>0</td>\n",
       "      <td>0</td>\n",
       "      <td>0</td>\n",
       "      <td>0</td>\n",
       "      <td>0</td>\n",
       "      <td>0</td>\n",
       "      <td>...</td>\n",
       "      <td>0</td>\n",
       "      <td>0</td>\n",
       "      <td>0</td>\n",
       "      <td>1</td>\n",
       "      <td>0</td>\n",
       "      <td>0</td>\n",
       "      <td>0</td>\n",
       "      <td>0</td>\n",
       "      <td>0</td>\n",
       "      <td>0</td>\n",
       "    </tr>\n",
       "    <tr>\n",
       "      <th>4</th>\n",
       "      <td>0</td>\n",
       "      <td>0</td>\n",
       "      <td>0</td>\n",
       "      <td>0</td>\n",
       "      <td>0</td>\n",
       "      <td>0</td>\n",
       "      <td>0</td>\n",
       "      <td>0</td>\n",
       "      <td>0</td>\n",
       "      <td>0</td>\n",
       "      <td>...</td>\n",
       "      <td>0</td>\n",
       "      <td>0</td>\n",
       "      <td>0</td>\n",
       "      <td>0</td>\n",
       "      <td>1</td>\n",
       "      <td>0</td>\n",
       "      <td>0</td>\n",
       "      <td>0</td>\n",
       "      <td>0</td>\n",
       "      <td>1</td>\n",
       "    </tr>\n",
       "  </tbody>\n",
       "</table>\n",
       "<p>5 rows × 276 columns</p>\n",
       "</div>"
      ],
      "text/plain": [
       "      Burkina Faso  Pakistan  Bulgaria  Bangladesh  Botswana  Ethiopia  Ghana  \\\n",
       "0  0             0         0         0           0         0         0      0   \n",
       "1  0             0         0         0           0         0         0      0   \n",
       "2  0             0         0         0           0         0         0      0   \n",
       "3  0             0         0         0           0         0         0      0   \n",
       "4  0             0         0         0           0         0         0      0   \n",
       "\n",
       "   Ukraine  Soviet Union  ...  Adventure  British TV Shows  TV Thrillers  \\\n",
       "0        0             0  ...          0                 0             0   \n",
       "1        0             0  ...          0                 0             0   \n",
       "2        0             0  ...          1                 0             0   \n",
       "3        0             0  ...          0                 0             0   \n",
       "4        0             0  ...          0                 0             0   \n",
       "\n",
       "   Docuseries  Romantic TV Shows  Science  TV Mysteries  TV Shows  Movies  \\\n",
       "0           0                  0        0             0         0       0   \n",
       "1           0                  0        0             1         0       0   \n",
       "2           0                  0        0             0         0       0   \n",
       "3           1                  0        0             0         0       0   \n",
       "4           0                  1        0             0         0       0   \n",
       "\n",
       "   TV Comedies  \n",
       "0            0  \n",
       "1            0  \n",
       "2            0  \n",
       "3            0  \n",
       "4            1  \n",
       "\n",
       "[5 rows x 276 columns]"
      ]
     },
     "execution_count": 15,
     "metadata": {},
     "output_type": "execute_result"
    }
   ],
   "source": [
    "ohe_df.head()"
   ]
  },
  {
   "cell_type": "code",
   "execution_count": 16,
   "id": "60c7965c",
   "metadata": {
    "execution": {
     "iopub.execute_input": "2023-03-28T17:29:44.540285Z",
     "iopub.status.busy": "2023-03-28T17:29:44.539882Z",
     "iopub.status.idle": "2023-03-28T17:29:44.547035Z",
     "shell.execute_reply": "2023-03-28T17:29:44.545911Z"
    },
    "papermill": {
     "duration": 0.017652,
     "end_time": "2023-03-28T17:29:44.549198",
     "exception": false,
     "start_time": "2023-03-28T17:29:44.531546",
     "status": "completed"
    },
    "tags": []
   },
   "outputs": [],
   "source": [
    "def recommend_by_cosine(movie, top_items):\n",
    "    \"\"\"\n",
    "    recommends top_similar movies based on cosine similarity\n",
    "    \"\"\"\n",
    "    movie_index = df[df['title'] == movie].index[0]\n",
    "    vector = ohe_df.iloc[movie_index]\n",
    "    distance = []\n",
    "    for ind, row in ohe_df.iterrows():\n",
    "        distance.append(spatial.distance.cosine(vector, row))\n",
    "    \n",
    "    indexes = sorted(range(len(distance)), key=lambda i: distance[i])[:top_items + 1]\n",
    "    \n",
    "    return list(df.iloc[indexes]['title'])[1:]\n",
    "    "
   ]
  },
  {
   "cell_type": "code",
   "execution_count": 17,
   "id": "c934b0c6",
   "metadata": {
    "execution": {
     "iopub.execute_input": "2023-03-28T17:29:44.564395Z",
     "iopub.status.busy": "2023-03-28T17:29:44.563967Z",
     "iopub.status.idle": "2023-03-28T17:29:44.570884Z",
     "shell.execute_reply": "2023-03-28T17:29:44.569727Z"
    },
    "papermill": {
     "duration": 0.017264,
     "end_time": "2023-03-28T17:29:44.573177",
     "exception": false,
     "start_time": "2023-03-28T17:29:44.555913",
     "status": "completed"
    },
    "tags": []
   },
   "outputs": [],
   "source": [
    "def recommend_by_knn(movie, top_items):\n",
    "    \"\"\"\n",
    "    recommends top_similar movies based on knn algorithm\n",
    "    \"\"\"\n",
    "    movie_index = df[df['title'] == movie].index[0]\n",
    "    vector = ohe_df.iloc[movie_index]\n",
    "    knn = NearestNeighbors(n_neighbors= top_items + 1, algorithm='auto')\n",
    "    knn.fit(ohe_df.values)\n",
    "    indexes = list(knn.kneighbors([vector], top_items + 1, return_distance=False)[0])\n",
    "    return list(df.iloc[indexes]['title'])[1:]"
   ]
  },
  {
   "cell_type": "markdown",
   "id": "74b01f52",
   "metadata": {
    "papermill": {
     "duration": 0.006592,
     "end_time": "2023-03-28T17:29:44.586426",
     "exception": false,
     "start_time": "2023-03-28T17:29:44.579834",
     "status": "completed"
    },
    "tags": []
   },
   "source": [
    "**Recommendations by Cosine Similarity**"
   ]
  },
  {
   "cell_type": "code",
   "execution_count": 18,
   "id": "43ade4b0",
   "metadata": {
    "execution": {
     "iopub.execute_input": "2023-03-28T17:29:44.601909Z",
     "iopub.status.busy": "2023-03-28T17:29:44.601475Z",
     "iopub.status.idle": "2023-03-28T17:29:45.547876Z",
     "shell.execute_reply": "2023-03-28T17:29:45.546663Z"
    },
    "papermill": {
     "duration": 0.957548,
     "end_time": "2023-03-28T17:29:45.550517",
     "exception": false,
     "start_time": "2023-03-28T17:29:44.592969",
     "status": "completed"
    },
    "tags": []
   },
   "outputs": [
    {
     "data": {
      "text/plain": [
       "[\"Schindler's List\",\n",
       " 'Once Upon a Time in America',\n",
       " 'Zodiac',\n",
       " 'The Irishman',\n",
       " 'A Clockwork Orange',\n",
       " 'Lolita',\n",
       " 'Magnolia',\n",
       " 'Rain Man',\n",
       " 'There Will Be Blood',\n",
       " 'Gangs of New York',\n",
       " 'GoodFellas',\n",
       " 'Jackie Brown',\n",
       " 'Do the Right Thing',\n",
       " 'Django Unchained',\n",
       " 'Boogie Nights']"
      ]
     },
     "execution_count": 18,
     "metadata": {},
     "output_type": "execute_result"
    }
   ],
   "source": [
    "# the first index is the movie itself and the rest are recommendations\n",
    "recommend_by_cosine('Pulp Fiction',15)"
   ]
  },
  {
   "cell_type": "markdown",
   "id": "1daac8d6",
   "metadata": {
    "papermill": {
     "duration": 0.006258,
     "end_time": "2023-03-28T17:29:45.563522",
     "exception": false,
     "start_time": "2023-03-28T17:29:45.557264",
     "status": "completed"
    },
    "tags": []
   },
   "source": [
    "**Movies Recommended by KNN**"
   ]
  },
  {
   "cell_type": "code",
   "execution_count": 19,
   "id": "df323f63",
   "metadata": {
    "execution": {
     "iopub.execute_input": "2023-03-28T17:29:45.578263Z",
     "iopub.status.busy": "2023-03-28T17:29:45.577858Z",
     "iopub.status.idle": "2023-03-28T17:29:45.606765Z",
     "shell.execute_reply": "2023-03-28T17:29:45.605501Z"
    },
    "papermill": {
     "duration": 0.040888,
     "end_time": "2023-03-28T17:29:45.610820",
     "exception": false,
     "start_time": "2023-03-28T17:29:45.569932",
     "status": "completed"
    },
    "tags": []
   },
   "outputs": [
    {
     "data": {
      "text/plain": [
       "['Frasier',\n",
       " 'Portlandia',\n",
       " 'Community',\n",
       " 'The Parkers',\n",
       " 'Cheers',\n",
       " 'Girlfriends',\n",
       " 'Parks and Recreation',\n",
       " 'Young & Hungry',\n",
       " '30 Rock',\n",
       " 'The Office (U.S.)']"
      ]
     },
     "execution_count": 19,
     "metadata": {},
     "output_type": "execute_result"
    }
   ],
   "source": [
    "# the first row is the movie itself and the rest are recommendations\n",
    "recommend_by_knn('Friends', 10)"
   ]
  }
 ],
 "metadata": {
  "kernelspec": {
   "display_name": "Python 3",
   "language": "python",
   "name": "python3"
  },
  "language_info": {
   "codemirror_mode": {
    "name": "ipython",
    "version": 3
   },
   "file_extension": ".py",
   "mimetype": "text/x-python",
   "name": "python",
   "nbconvert_exporter": "python",
   "pygments_lexer": "ipython3",
   "version": "3.7.12"
  },
  "papermill": {
   "default_parameters": {},
   "duration": 20.693081,
   "end_time": "2023-03-28T17:29:46.348410",
   "environment_variables": {},
   "exception": null,
   "input_path": "__notebook__.ipynb",
   "output_path": "__notebook__.ipynb",
   "parameters": {},
   "start_time": "2023-03-28T17:29:25.655329",
   "version": "2.4.0"
  }
 },
 "nbformat": 4,
 "nbformat_minor": 5
}
